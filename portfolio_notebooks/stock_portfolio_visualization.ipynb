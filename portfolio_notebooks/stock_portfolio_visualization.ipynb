{
 "cells": [
  {
   "cell_type": "markdown",
   "id": "f62436b5-b04c-4acd-8f66-927140b27602",
   "metadata": {},
   "source": [
    "# Stock Portfolio visualization\n"
   ]
  },
  {
   "cell_type": "code",
   "execution_count": null,
   "id": "cbc07734-8e81-4b82-b83e-c590aa3d153e",
   "metadata": {},
   "outputs": [],
   "source": [
    "import pandas as pd\n"
   ]
  }
 ],
 "metadata": {
  "kernelspec": {
   "display_name": "Python 3 (ipykernel)",
   "language": "python",
   "name": "python3"
  },
  "language_info": {
   "codemirror_mode": {
    "name": "ipython",
    "version": 3
   },
   "file_extension": ".py",
   "mimetype": "text/x-python",
   "name": "python",
   "nbconvert_exporter": "python",
   "pygments_lexer": "ipython3",
   "version": "3.9.18"
  }
 },
 "nbformat": 4,
 "nbformat_minor": 5
}
