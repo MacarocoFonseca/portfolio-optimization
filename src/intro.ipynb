{
 "cells": [
  {
   "cell_type": "code",
   "execution_count": 43,
   "id": "1ebeb3fc-dbb0-4e60-a879-b29979146045",
   "metadata": {},
   "outputs": [],
   "source": [
    "import yfinance as yf\n",
    "import pandas as pd\n",
    "import numpy as np\n",
    "from datetime import datetime, date\n",
    "import matplotlib.pyplot as plt\n",
    "plt.style.use('fivethirtyeight')"
   ]
  },
  {
   "cell_type": "markdown",
   "id": "20384ba1-3e4a-4fdb-a429-c19107adaf78",
   "metadata": {},
   "source": [
    "## Get the stock symbols / tickers in the portfolio\n",
    "### FAANG (best US tech companies)\n"
   ]
  },
  {
   "cell_type": "code",
   "execution_count": 44,
   "id": "d92854fe-ac68-4ee4-9baa-d82803886bf5",
   "metadata": {},
   "outputs": [],
   "source": [
    "assets = ['FB', 'AMZN', 'AAPL', 'NFLX', 'GOOG']"
   ]
  },
  {
   "cell_type": "code",
   "execution_count": 45,
   "id": "376264ed-b2f7-458a-9d66-b89f1596854f",
   "metadata": {},
   "outputs": [],
   "source": [
    "# Assign weights to the stocks\n",
    "weights = np.array([0.2, 0.2, 0.2, 0.2, 0.2])"
   ]
  },
  {
   "cell_type": "code",
   "execution_count": 46,
   "id": "5993862a-d2d9-4ad9-88ff-79788af24e78",
   "metadata": {},
   "outputs": [
    {
     "data": {
      "text/plain": [
       "datetime.datetime(2013, 1, 1, 0, 0)"
      ]
     },
     "execution_count": 46,
     "metadata": {},
     "output_type": "execute_result"
    }
   ],
   "source": [
    "# Get the stock/portfolio starting date\n",
    "stock_start_date = datetime.strptime('2013-01-01', '%Y-%m-%d')\n",
    "stock_start_date"
   ]
  },
  {
   "cell_type": "code",
   "execution_count": 47,
   "id": "6e8a9072-7d28-40fe-91d0-0a412639942d",
   "metadata": {},
   "outputs": [
    {
     "data": {
      "text/plain": [
       "datetime.date(2023, 8, 18)"
      ]
     },
     "execution_count": 47,
     "metadata": {},
     "output_type": "execute_result"
    }
   ],
   "source": [
    "# Get the stocks ending date (today)\n",
    "end_date = date.today()\n",
    "end_date"
   ]
  },
  {
   "cell_type": "code",
   "execution_count": 50,
   "id": "38ab36bd-9c71-45fa-a4c3-dfea739508a0",
   "metadata": {},
   "outputs": [
    {
     "name": "stdout",
     "output_type": "stream",
     "text": [
      "[*********************100%***********************]  5 of 5 completed"
     ]
    },
    {
     "name": "stderr",
     "output_type": "stream",
     "text": [
      "\n",
      "1 Failed download:\n",
      "['FB']: Exception('%ticker%: No timezone found, symbol may be delisted')\n"
     ]
    },
    {
     "name": "stdout",
     "output_type": "stream",
     "text": [
      "\n",
      "                           AAPL        AMZN  FB       GOOGL        NFLX\n",
      "Date                                                                   \n",
      "2023-08-11 00:00:00  177.789993  138.410004 NaN  129.559998  421.660004\n",
      "2023-08-14 00:00:00  179.460007  140.570007 NaN  131.330002  427.779999\n",
      "2023-08-15 00:00:00  177.449997  137.669998 NaN  129.779999  423.700012\n",
      "2023-08-16 00:00:00  176.570007  135.070007 NaN  128.699997  415.450012\n",
      "2023-08-17 00:00:00  174.000000  133.979996 NaN  129.919998  403.000000\n",
      "[*********************100%***********************]  1 of 1 completed"
     ]
    },
    {
     "name": "stderr",
     "output_type": "stream",
     "text": [
      "\n",
      "1 Failed download:\n",
      "['FB']: Exception('%ticker%: No timezone found, symbol may be delisted')\n"
     ]
    },
    {
     "name": "stdout",
     "output_type": "stream",
     "text": [
      "\n",
      "[*********************100%***********************]  1 of 1 completed\n",
      "[*********************100%***********************]  1 of 1 completed\n",
      "[*********************100%***********************]  1 of 1 completed\n",
      "[*********************100%***********************]  1 of 1 completed\n",
      "            FB        AMZN        AAPL        NFLX        GOOG\n",
      "Date                                                          \n",
      "2013-01-02 NaN   12.865500   16.791180   13.144286   18.013729\n",
      "2013-01-03 NaN   12.924000   16.579247   13.798571   18.024191\n",
      "2013-01-04 NaN   12.957500   16.117432   13.711429   18.380356\n",
      "2013-01-07 NaN   13.423000   16.022623   14.171429   18.300158\n",
      "2013-01-08 NaN   13.319000   16.065746   13.880000   18.264042\n",
      "...         ..         ...         ...         ...         ...\n",
      "2023-08-11 NaN  138.410004  177.789993  421.660004  130.169998\n",
      "2023-08-14 NaN  140.570007  179.460007  427.779999  131.830002\n",
      "2023-08-15 NaN  137.669998  177.449997  423.700012  130.270004\n",
      "2023-08-16 NaN  135.070007  176.570007  415.450012  129.110001\n",
      "2023-08-17 NaN  133.979996  174.000000  403.000000  130.460007\n",
      "\n",
      "[2675 rows x 5 columns]\n"
     ]
    }
   ],
   "source": [
    "# Create a dataframe to store the adjusted close price of the stocks\n",
    "df = pd.DataFrame()\n",
    "\n",
    "# Store the adjusted close price of the stock into the Dataframe\n",
    "data = yf.download(faang_tickers, start=start_date, end=end_date)['Adj Close']\n",
    "print(data.tail())\n",
    "\n",
    "for stock in assets:\n",
    "    df[stock] = yf.download(stock, start=start_date, end=end_date)['Adj Close']\n",
    "\n",
    "print(df)"
   ]
  },
  {
   "cell_type": "code",
   "execution_count": null,
   "id": "ca6dbc74-5906-44dc-875b-e5d966ede82f",
   "metadata": {},
   "outputs": [],
   "source": []
  },
  {
   "cell_type": "code",
   "execution_count": null,
   "id": "77357eba-5c1e-4b93-9aea-a27f66b5df18",
   "metadata": {},
   "outputs": [],
   "source": []
  }
 ],
 "metadata": {
  "kernelspec": {
   "display_name": "quant-kernel",
   "language": "python",
   "name": "quant-kernel"
  },
  "language_info": {
   "codemirror_mode": {
    "name": "ipython",
    "version": 3
   },
   "file_extension": ".py",
   "mimetype": "text/x-python",
   "name": "python",
   "nbconvert_exporter": "python",
   "pygments_lexer": "ipython3",
   "version": "3.9.16"
  }
 },
 "nbformat": 4,
 "nbformat_minor": 5
}
