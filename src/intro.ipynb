{
 "cells": [
  {
   "cell_type": "code",
   "execution_count": 26,
   "id": "1ebeb3fc-dbb0-4e60-a879-b29979146045",
   "metadata": {},
   "outputs": [],
   "source": [
    "import yfinance as yf\n",
    "import pandas as pd\n",
    "import numpy as np\n",
    "from datetime import datetime, date\n",
    "import matplotlib.pyplot as plt\n",
    "# plt.style.use('fivethirtyeight')"
   ]
  },
  {
   "cell_type": "markdown",
   "id": "20384ba1-3e4a-4fdb-a429-c19107adaf78",
   "metadata": {},
   "source": [
    "## Get the stock symbols / tickers in the portfolio\n",
    "### FAANG (best US tech companies)\n"
   ]
  },
  {
   "cell_type": "code",
   "execution_count": 14,
   "id": "d92854fe-ac68-4ee4-9baa-d82803886bf5",
   "metadata": {},
   "outputs": [],
   "source": [
    "assets = ['META', 'AMZN', 'AAPL', 'NFLX', 'GOOG']"
   ]
  },
  {
   "cell_type": "code",
   "execution_count": 3,
   "id": "376264ed-b2f7-458a-9d66-b89f1596854f",
   "metadata": {},
   "outputs": [],
   "source": [
    "# Assign weights to the stocks\n",
    "weights = np.array([0.2, 0.2, 0.2, 0.2, 0.2])"
   ]
  },
  {
   "cell_type": "code",
   "execution_count": 9,
   "id": "5993862a-d2d9-4ad9-88ff-79788af24e78",
   "metadata": {},
   "outputs": [
    {
     "data": {
      "text/plain": [
       "datetime.datetime(2013, 1, 1, 0, 0)"
      ]
     },
     "execution_count": 9,
     "metadata": {},
     "output_type": "execute_result"
    }
   ],
   "source": [
    "# Get the stock/portfolio starting date\n",
    "start_date = datetime.strptime('2013-01-01', '%Y-%m-%d')\n",
    "start_date"
   ]
  },
  {
   "cell_type": "code",
   "execution_count": 5,
   "id": "6e8a9072-7d28-40fe-91d0-0a412639942d",
   "metadata": {},
   "outputs": [
    {
     "data": {
      "text/plain": [
       "datetime.date(2023, 8, 18)"
      ]
     },
     "execution_count": 5,
     "metadata": {},
     "output_type": "execute_result"
    }
   ],
   "source": [
    "# Get the stocks ending date (today)\n",
    "end_date = date.today()\n",
    "end_date"
   ]
  },
  {
   "cell_type": "code",
   "execution_count": 15,
   "id": "38ab36bd-9c71-45fa-a4c3-dfea739508a0",
   "metadata": {},
   "outputs": [
    {
     "name": "stdout",
     "output_type": "stream",
     "text": [
      "[*********************100%***********************]  5 of 5 completed\n",
      "                  AAPL        AMZN        GOOG        META        NFLX\n",
      "Date                                                                  \n",
      "2023-08-11  177.789993  138.410004  130.169998  301.640015  421.660004\n",
      "2023-08-14  179.460007  140.570007  131.830002  306.190002  427.779999\n",
      "2023-08-15  177.449997  137.669998  130.270004  301.950012  423.700012\n",
      "2023-08-16  176.570007  135.070007  129.110001  294.290009  415.450012\n",
      "2023-08-17  174.000000  133.979996  130.460007  285.089996  403.000000\n",
      "[*********************100%***********************]  1 of 1 completed\n",
      "[*********************100%***********************]  1 of 1 completed\n",
      "[*********************100%***********************]  1 of 1 completed\n",
      "[*********************100%***********************]  1 of 1 completed\n",
      "[*********************100%***********************]  1 of 1 completed\n"
     ]
    },
    {
     "data": {
      "text/html": [
       "<div>\n",
       "<style scoped>\n",
       "    .dataframe tbody tr th:only-of-type {\n",
       "        vertical-align: middle;\n",
       "    }\n",
       "\n",
       "    .dataframe tbody tr th {\n",
       "        vertical-align: top;\n",
       "    }\n",
       "\n",
       "    .dataframe thead th {\n",
       "        text-align: right;\n",
       "    }\n",
       "</style>\n",
       "<table border=\"1\" class=\"dataframe\">\n",
       "  <thead>\n",
       "    <tr style=\"text-align: right;\">\n",
       "      <th></th>\n",
       "      <th>META</th>\n",
       "      <th>AMZN</th>\n",
       "      <th>AAPL</th>\n",
       "      <th>NFLX</th>\n",
       "      <th>GOOG</th>\n",
       "    </tr>\n",
       "    <tr>\n",
       "      <th>Date</th>\n",
       "      <th></th>\n",
       "      <th></th>\n",
       "      <th></th>\n",
       "      <th></th>\n",
       "      <th></th>\n",
       "    </tr>\n",
       "  </thead>\n",
       "  <tbody>\n",
       "    <tr>\n",
       "      <th>2023-08-11</th>\n",
       "      <td>301.640015</td>\n",
       "      <td>138.410004</td>\n",
       "      <td>177.789993</td>\n",
       "      <td>421.660004</td>\n",
       "      <td>130.169998</td>\n",
       "    </tr>\n",
       "    <tr>\n",
       "      <th>2023-08-14</th>\n",
       "      <td>306.190002</td>\n",
       "      <td>140.570007</td>\n",
       "      <td>179.460007</td>\n",
       "      <td>427.779999</td>\n",
       "      <td>131.830002</td>\n",
       "    </tr>\n",
       "    <tr>\n",
       "      <th>2023-08-15</th>\n",
       "      <td>301.950012</td>\n",
       "      <td>137.669998</td>\n",
       "      <td>177.449997</td>\n",
       "      <td>423.700012</td>\n",
       "      <td>130.270004</td>\n",
       "    </tr>\n",
       "    <tr>\n",
       "      <th>2023-08-16</th>\n",
       "      <td>294.290009</td>\n",
       "      <td>135.070007</td>\n",
       "      <td>176.570007</td>\n",
       "      <td>415.450012</td>\n",
       "      <td>129.110001</td>\n",
       "    </tr>\n",
       "    <tr>\n",
       "      <th>2023-08-17</th>\n",
       "      <td>285.089996</td>\n",
       "      <td>133.979996</td>\n",
       "      <td>174.000000</td>\n",
       "      <td>403.000000</td>\n",
       "      <td>130.460007</td>\n",
       "    </tr>\n",
       "  </tbody>\n",
       "</table>\n",
       "</div>"
      ],
      "text/plain": [
       "                  META        AMZN        AAPL        NFLX        GOOG\n",
       "Date                                                                  \n",
       "2023-08-11  301.640015  138.410004  177.789993  421.660004  130.169998\n",
       "2023-08-14  306.190002  140.570007  179.460007  427.779999  131.830002\n",
       "2023-08-15  301.950012  137.669998  177.449997  423.700012  130.270004\n",
       "2023-08-16  294.290009  135.070007  176.570007  415.450012  129.110001\n",
       "2023-08-17  285.089996  133.979996  174.000000  403.000000  130.460007"
      ]
     },
     "execution_count": 15,
     "metadata": {},
     "output_type": "execute_result"
    }
   ],
   "source": [
    "# Create a dataframe to store the adjusted close price of the stocks\n",
    "df = pd.DataFrame()\n",
    "\n",
    "# Store the adjusted close price of the stock into the Dataframe\n",
    "data = yf.download(assets, start=start_date, end=end_date)['Adj Close']\n",
    "print(data.tail())\n",
    "\n",
    "for stock in assets:\n",
    "    df[stock] = yf.download(stock, start=start_date, end=end_date)['Adj Close']\n",
    "\n",
    "df.tail()"
   ]
  },
  {
   "cell_type": "code",
   "execution_count": 29,
   "id": "77357eba-5c1e-4b93-9aea-a27f66b5df18",
   "metadata": {},
   "outputs": [
    {
     "data": {
      "text/plain": [
       "<matplotlib.legend.Legend at 0x122ea1220>"
      ]
     },
     "execution_count": 29,
     "metadata": {},
     "output_type": "execute_result"
    },
    {
     "data": {
      "image/png": "[encoded data removed]",
      "text/plain": [
       "<Figure size 640x480 with 1 Axes>"
      ]
     },
     "metadata": {},
     "output_type": "display_data"
    }
   ],
   "source": [
    "# Visualise the portfolio\n",
    "title = 'Portfolio Adj. Close Price History'\n",
    "\n",
    "my_stocks = df.copy()\n",
    "\n",
    "# Create and plot the graph\n",
    "for ticker in df.columns.values:\n",
    "    plt.plot(df[ticker], label = ticker)\n",
    "\n",
    "plt.title(title)\n",
    "plt.xlabel('Date', fontsize = 18)\n",
    "plt.ylabel('Adj. Close Price USD ($)', fontsize = 18)\n",
    "plt.legend(df.columns.values, loc = 'upper left')"
   ]
  },
  {
   "cell_type": "code",
   "execution_count": 30,
   "id": "db8f7a01-439d-4025-8cc6-89f2cd85ef24",
   "metadata": {},
   "outputs": [
    {
     "data": {
      "text/html": [
       "<div>\n",
       "<style scoped>\n",
       "    .dataframe tbody tr th:only-of-type {\n",
       "        vertical-align: middle;\n",
       "    }\n",
       "\n",
       "    .dataframe tbody tr th {\n",
       "        vertical-align: top;\n",
       "    }\n",
       "\n",
       "    .dataframe thead th {\n",
       "        text-align: right;\n",
       "    }\n",
       "</style>\n",
       "<table border=\"1\" class=\"dataframe\">\n",
       "  <thead>\n",
       "    <tr style=\"text-align: right;\">\n",
       "      <th></th>\n",
       "      <th>META</th>\n",
       "      <th>AMZN</th>\n",
       "      <th>AAPL</th>\n",
       "      <th>NFLX</th>\n",
       "      <th>GOOG</th>\n",
       "    </tr>\n",
       "    <tr>\n",
       "      <th>Date</th>\n",
       "      <th></th>\n",
       "      <th></th>\n",
       "      <th></th>\n",
       "      <th></th>\n",
       "      <th></th>\n",
       "    </tr>\n",
       "  </thead>\n",
       "  <tbody>\n",
       "    <tr>\n",
       "      <th>2013-01-02</th>\n",
       "      <td>NaN</td>\n",
       "      <td>NaN</td>\n",
       "      <td>NaN</td>\n",
       "      <td>NaN</td>\n",
       "      <td>NaN</td>\n",
       "    </tr>\n",
       "    <tr>\n",
       "      <th>2013-01-03</th>\n",
       "      <td>-0.008214</td>\n",
       "      <td>0.004547</td>\n",
       "      <td>-0.012622</td>\n",
       "      <td>0.049777</td>\n",
       "      <td>0.000581</td>\n",
       "    </tr>\n",
       "    <tr>\n",
       "      <th>2013-01-04</th>\n",
       "      <td>0.035650</td>\n",
       "      <td>0.002592</td>\n",
       "      <td>-0.027855</td>\n",
       "      <td>-0.006315</td>\n",
       "      <td>0.019760</td>\n",
       "    </tr>\n",
       "    <tr>\n",
       "      <th>2013-01-07</th>\n",
       "      <td>0.022949</td>\n",
       "      <td>0.035925</td>\n",
       "      <td>-0.005882</td>\n",
       "      <td>0.033549</td>\n",
       "      <td>-0.004363</td>\n",
       "    </tr>\n",
       "    <tr>\n",
       "      <th>2013-01-08</th>\n",
       "      <td>-0.012237</td>\n",
       "      <td>-0.007748</td>\n",
       "      <td>0.002691</td>\n",
       "      <td>-0.020565</td>\n",
       "      <td>-0.001974</td>\n",
       "    </tr>\n",
       "    <tr>\n",
       "      <th>...</th>\n",
       "      <td>...</td>\n",
       "      <td>...</td>\n",
       "      <td>...</td>\n",
       "      <td>...</td>\n",
       "      <td>...</td>\n",
       "    </tr>\n",
       "    <tr>\n",
       "      <th>2023-08-11</th>\n",
       "      <td>-0.013410</td>\n",
       "      <td>-0.001083</td>\n",
       "      <td>0.000338</td>\n",
       "      <td>-0.019350</td>\n",
       "      <td>-0.000307</td>\n",
       "    </tr>\n",
       "    <tr>\n",
       "      <th>2023-08-14</th>\n",
       "      <td>0.015084</td>\n",
       "      <td>0.015606</td>\n",
       "      <td>0.009393</td>\n",
       "      <td>0.014514</td>\n",
       "      <td>0.012753</td>\n",
       "    </tr>\n",
       "    <tr>\n",
       "      <th>2023-08-15</th>\n",
       "      <td>-0.013848</td>\n",
       "      <td>-0.020630</td>\n",
       "      <td>-0.011200</td>\n",
       "      <td>-0.009538</td>\n",
       "      <td>-0.011833</td>\n",
       "    </tr>\n",
       "    <tr>\n",
       "      <th>2023-08-16</th>\n",
       "      <td>-0.025368</td>\n",
       "      <td>-0.018886</td>\n",
       "      <td>-0.004959</td>\n",
       "      <td>-0.019471</td>\n",
       "      <td>-0.008905</td>\n",
       "    </tr>\n",
       "    <tr>\n",
       "      <th>2023-08-17</th>\n",
       "      <td>-0.031262</td>\n",
       "      <td>-0.008070</td>\n",
       "      <td>-0.014555</td>\n",
       "      <td>-0.029968</td>\n",
       "      <td>0.010456</td>\n",
       "    </tr>\n",
       "  </tbody>\n",
       "</table>\n",
       "<p>2675 rows × 5 columns</p>\n",
       "</div>"
      ],
      "text/plain": [
       "                META      AMZN      AAPL      NFLX      GOOG\n",
       "Date                                                        \n",
       "2013-01-02       NaN       NaN       NaN       NaN       NaN\n",
       "2013-01-03 -0.008214  0.004547 -0.012622  0.049777  0.000581\n",
       "2013-01-04  0.035650  0.002592 -0.027855 -0.006315  0.019760\n",
       "2013-01-07  0.022949  0.035925 -0.005882  0.033549 -0.004363\n",
       "2013-01-08 -0.012237 -0.007748  0.002691 -0.020565 -0.001974\n",
       "...              ...       ...       ...       ...       ...\n",
       "2023-08-11 -0.013410 -0.001083  0.000338 -0.019350 -0.000307\n",
       "2023-08-14  0.015084  0.015606  0.009393  0.014514  0.012753\n",
       "2023-08-15 -0.013848 -0.020630 -0.011200 -0.009538 -0.011833\n",
       "2023-08-16 -0.025368 -0.018886 -0.004959 -0.019471 -0.008905\n",
       "2023-08-17 -0.031262 -0.008070 -0.014555 -0.029968  0.010456\n",
       "\n",
       "[2675 rows x 5 columns]"
      ]
     },
     "execution_count": 30,
     "metadata": {},
     "output_type": "execute_result"
    }
   ],
   "source": [
    " # Show the daily simple return\n",
    "\n",
    "returns = df.pct_change()\n",
    "returns"
   ]
  },
  {
   "cell_type": "code",
   "execution_count": 33,
   "id": "a9a3ff90-b49b-4541-98ac-c72c3b53aa27",
   "metadata": {},
   "outputs": [
    {
     "data": {
      "text/html": [
       "<div>\n",
       "<style scoped>\n",
       "    .dataframe tbody tr th:only-of-type {\n",
       "        vertical-align: middle;\n",
       "    }\n",
       "\n",
       "    .dataframe tbody tr th {\n",
       "        vertical-align: top;\n",
       "    }\n",
       "\n",
       "    .dataframe thead th {\n",
       "        text-align: right;\n",
       "    }\n",
       "</style>\n",
       "<table border=\"1\" class=\"dataframe\">\n",
       "  <thead>\n",
       "    <tr style=\"text-align: right;\">\n",
       "      <th></th>\n",
       "      <th>META</th>\n",
       "      <th>AMZN</th>\n",
       "      <th>AAPL</th>\n",
       "      <th>NFLX</th>\n",
       "      <th>GOOG</th>\n",
       "    </tr>\n",
       "  </thead>\n",
       "  <tbody>\n",
       "    <tr>\n",
       "      <th>META</th>\n",
       "      <td>0.149368</td>\n",
       "      <td>0.068876</td>\n",
       "      <td>0.053133</td>\n",
       "      <td>0.074375</td>\n",
       "      <td>0.063166</td>\n",
       "    </tr>\n",
       "    <tr>\n",
       "      <th>AMZN</th>\n",
       "      <td>0.068876</td>\n",
       "      <td>0.107374</td>\n",
       "      <td>0.046868</td>\n",
       "      <td>0.073715</td>\n",
       "      <td>0.056485</td>\n",
       "    </tr>\n",
       "    <tr>\n",
       "      <th>AAPL</th>\n",
       "      <td>0.053133</td>\n",
       "      <td>0.046868</td>\n",
       "      <td>0.082146</td>\n",
       "      <td>0.043290</td>\n",
       "      <td>0.044535</td>\n",
       "    </tr>\n",
       "    <tr>\n",
       "      <th>NFLX</th>\n",
       "      <td>0.074375</td>\n",
       "      <td>0.073715</td>\n",
       "      <td>0.043290</td>\n",
       "      <td>0.222990</td>\n",
       "      <td>0.055520</td>\n",
       "    </tr>\n",
       "    <tr>\n",
       "      <th>GOOG</th>\n",
       "      <td>0.063166</td>\n",
       "      <td>0.056485</td>\n",
       "      <td>0.044535</td>\n",
       "      <td>0.055520</td>\n",
       "      <td>0.075368</td>\n",
       "    </tr>\n",
       "  </tbody>\n",
       "</table>\n",
       "</div>"
      ],
      "text/plain": [
       "          META      AMZN      AAPL      NFLX      GOOG\n",
       "META  0.149368  0.068876  0.053133  0.074375  0.063166\n",
       "AMZN  0.068876  0.107374  0.046868  0.073715  0.056485\n",
       "AAPL  0.053133  0.046868  0.082146  0.043290  0.044535\n",
       "NFLX  0.074375  0.073715  0.043290  0.222990  0.055520\n",
       "GOOG  0.063166  0.056485  0.044535  0.055520  0.075368"
      ]
     },
     "execution_count": 33,
     "metadata": {},
     "output_type": "execute_result"
    }
   ],
   "source": [
    "# Create and show the annualized covariance matrix\n",
    "# 252 -> Nr of trading days\n",
    "# cov_matrix -> Determines how much two random variables vary or move together, directional relationship between two asset prices\n",
    "\n",
    "cov_matrix_annual = returns.cov() * 252\n",
    "cov_matrix_annual"
   ]
  },
  {
   "cell_type": "markdown",
   "id": "ff6a62a4-824f-4617-8fad-f460b506ee8f",
   "metadata": {},
   "source": [
    "In the diagonal line we have the variance and all the rest of the entries are the covariance.\n",
    "If we take the square root of variance we get the volatility"
   ]
  },
  {
   "cell_type": "code",
   "execution_count": 34,
   "id": "e9600bcd-34f1-4a6c-bdb8-49d1f2804341",
   "metadata": {},
   "outputs": [
    {
     "data": {
      "text/plain": [
       "0.07188690016190036"
      ]
     },
     "execution_count": 34,
     "metadata": {},
     "output_type": "execute_result"
    }
   ],
   "source": [
    "# Calculate the portfolio variance\n",
    "\n",
    "portfolio_variance = np.dot(weights.T, np.dot(cov_matrix_annual, weights))\n",
    "portfolio_variance"
   ]
  },
  {
   "cell_type": "code",
   "execution_count": 35,
   "id": "83b5d98e-f316-4f6c-8160-41e82dca5883",
   "metadata": {},
   "outputs": [
    {
     "data": {
      "text/plain": [
       "0.26811732536690047"
      ]
     },
     "execution_count": 35,
     "metadata": {},
     "output_type": "execute_result"
    }
   ],
   "source": [
    "# Calculate the portfolio volatility aka standard deviation\n",
    "\n",
    "portfolio_volatility = np.sqrt(portfolio_variance)\n",
    "portfolio_volatility"
   ]
  },
  {
   "cell_type": "code",
   "execution_count": null,
   "id": "3d5805aa-3870-4d55-b2e9-cae75ab9c08e",
   "metadata": {},
   "outputs": [],
   "source": [
    "# Calculate the annual portfolio return\n",
    "\n",
    "portfolio_simple_annual_return = np.sum(returns"
   ]
  },
  {
   "cell_type": "code",
   "execution_count": null,
   "id": "376689f7-6e57-48f2-bd10-c5f920a2de37",
   "metadata": {},
   "outputs": [],
   "source": []
  },
  {
   "cell_type": "code",
   "execution_count": null,
   "id": "12f967ac-5555-4b54-8779-19df8198daec",
   "metadata": {},
   "outputs": [],
   "source": []
  },
  {
   "cell_type": "code",
   "execution_count": null,
   "id": "18150e57-d6f4-40dc-aec2-e9dc0ecde55a",
   "metadata": {},
   "outputs": [],
   "source": []
  },
  {
   "cell_type": "code",
   "execution_count": null,
   "id": "742350dd-53c2-4a87-8433-af6412b457c2",
   "metadata": {},
   "outputs": [],
   "source": []
  },
  {
   "cell_type": "code",
   "execution_count": null,
   "id": "3deb0586-84f5-4eb3-852d-a4db485c426a",
   "metadata": {},
   "outputs": [],
   "source": []
  },
  {
   "cell_type": "code",
   "execution_count": null,
   "id": "c6d73354-0f2e-4e89-a669-8d0814a6f424",
   "metadata": {},
   "outputs": [],
   "source": []
  },
  {
   "cell_type": "code",
   "execution_count": null,
   "id": "cb573454-de2d-447b-8d0b-153ecfa1a676",
   "metadata": {},
   "outputs": [],
   "source": []
  },
  {
   "cell_type": "code",
   "execution_count": null,
   "id": "979070b1-6b06-4b40-9514-5927704909de",
   "metadata": {},
   "outputs": [],
   "source": []
  }
 ],
 "metadata": {
  "kernelspec": {
   "display_name": "quant-kernel",
   "language": "python",
   "name": "quant-kernel"
  },
  "language_info": {
   "codemirror_mode": {
    "name": "ipython",
    "version": 3
   },
   "file_extension": ".py",
   "mimetype": "text/x-python",
   "name": "python",
   "nbconvert_exporter": "python",
   "pygments_lexer": "ipython3",
   "version": "3.9.16"
  }
 },
 "nbformat": 4,
 "nbformat_minor": 5
}
